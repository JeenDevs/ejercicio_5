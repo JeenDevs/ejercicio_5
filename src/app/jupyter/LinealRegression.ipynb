{
 "cells": [
  {
   "cell_type": "code",
   "execution_count": 12,
   "id": "6748738d",
   "metadata": {},
   "outputs": [
    {
     "data": {
      "image/png": "[encoded data removed]",
      "text/plain": [
       "<Figure size 640x480 with 1 Axes>"
      ]
     },
     "metadata": {},
     "output_type": "display_data"
    },
    {
     "name": "stdout",
     "output_type": "stream",
     "text": [
      "        fecha       hora  temperatura  Humedad Relativa  PresionAtmosferica  \\\n",
      "0     01-01-16   0:00:07       30.017            71.095             1015.61   \n",
      "1     01-01-16   0:01:06       29.989            71.328             1015.61   \n",
      "2     01-01-16   0:02:06       29.983            71.232             1015.61   \n",
      "3     01-01-16   0:03:06       29.921            71.333             1015.61   \n",
      "4     01-01-16   0:04:06       29.860            71.740             1015.61   \n",
      "...        ...       ...          ...               ...                 ...   \n",
      "3994  01-03-16  18:34:07       29.226            92.131             1012.99   \n",
      "3995  01-03-16  18:35:07       29.190            93.380             1012.99   \n",
      "3996  01-03-16  18:36:07       29.213            93.058             1012.99   \n",
      "3997  01-03-16  18:37:07       29.207            91.130             1012.99   \n",
      "3998  01-03-16  18:38:07       29.194            92.040             1012.99   \n",
      "\n",
      "     RadiacionSolar  Velocidad  Potencia  \n",
      "0             0.074      1.703  -366.627  \n",
      "1             0.165      0.859  -384.633  \n",
      "2             0.292      2.633  -394.124  \n",
      "3             0.467      2.016  -398.277  \n",
      "4              0.48      1.789  -400.013  \n",
      "...             ...        ...       ...  \n",
      "3994        462.634      0.078  -401.916  \n",
      "3995        568.125      0.000  -402.036  \n",
      "3996        743.615      0.000  -402.051  \n",
      "3997        501.062      0.000  -402.006  \n",
      "3998        504.496      0.023  -402.001  \n",
      "\n",
      "[3999 rows x 8 columns]\n"
     ]
    }
   ],
   "source": [
    "import pandas as pd\n",
    "import numpy as np\n",
    "import matplotlib.pyplot as plt\n",
    "\n",
    "dataframe = pd.read_csv('Data.csv', sep=';',encoding ='latin-1')\n",
    "lista1 = [11,2,3,15,8,13,21,34, 55, 77, 88]\n",
    "plt.plot(lista1)\n",
    "plt.show()\n",
    "print(dataframe)\n",
    "# print(plt)"
   ]
  },
  {
   "cell_type": "code",
   "execution_count": 4,
   "id": "608f0330",
   "metadata": {},
   "outputs": [
    {
     "name": "stdout",
     "output_type": "stream",
     "text": [
      "[INFO] Attemping to send data\n",
      "200 {'fecha': [{'status_code': 400, 'errors': {'error': {'message': 'The value NaN is not in a valid range.', 'code': 400001}}}], 'hora': [{'status_code': 400, 'errors': {'error': {'message': 'The value NaN is not in a valid range.', 'code': 400001}}}], 'humedad-relativa': [{'status_code': 400, 'errors': {'error': {'message': 'The value NaN is not in a valid range.', 'code': 400001}}}], 'position': [{'status_code': 201}], 'potencia': [{'status_code': 400, 'errors': {'error': {'message': 'The value NaN is not in a valid range.', 'code': 400001}}}], 'presion-atmosferica': [{'status_code': 400, 'errors': {'error': {'message': 'The value NaN is not in a valid range.', 'code': 400001}}}], 'radiacion-solar': [{'status_code': 400, 'errors': {'error': {'message': 'The value NaN is not in a valid range.', 'code': 400001}}}], 'temperatura': [{'status_code': 400, 'errors': {'error': {'message': 'The value NaN is not in a valid range.', 'code': 400001}}}], 'velocidad': [{'status_code': 400, 'errors': {'error': {'message': 'The value NaN is not in a valid range.', 'code': 400001}}}]}\n",
      "[INFO] request made properly, your device is updated\n",
      "[INFO] finished\n",
      "[INFO] Attemping to send data\n",
      "200 {'fecha': [{'status_code': 400, 'errors': {'error': {'message': 'The value NaN is not in a valid range.', 'code': 400001}}}], 'hora': [{'status_code': 400, 'errors': {'error': {'message': 'The value NaN is not in a valid range.', 'code': 400001}}}], 'humedad-relativa': [{'status_code': 400, 'errors': {'error': {'message': 'The value NaN is not in a valid range.', 'code': 400001}}}], 'position': [{'status_code': 201}], 'potencia': [{'status_code': 400, 'errors': {'error': {'message': 'The value NaN is not in a valid range.', 'code': 400001}}}], 'presion-atmosferica': [{'status_code': 400, 'errors': {'error': {'message': 'The value NaN is not in a valid range.', 'code': 400001}}}], 'radiacion-solar': [{'status_code': 400, 'errors': {'error': {'message': 'The value NaN is not in a valid range.', 'code': 400001}}}], 'temperatura': [{'status_code': 400, 'errors': {'error': {'message': 'The value NaN is not in a valid range.', 'code': 400001}}}], 'velocidad': [{'status_code': 400, 'errors': {'error': {'message': 'The value NaN is not in a valid range.', 'code': 400001}}}]}\n",
      "[INFO] request made properly, your device is updated\n",
      "[INFO] finished\n",
      "[INFO] Attemping to send data\n",
      "200 {'fecha': [{'status_code': 400, 'errors': {'error': {'message': 'The value NaN is not in a valid range.', 'code': 400001}}}], 'hora': [{'status_code': 400, 'errors': {'error': {'message': 'The value NaN is not in a valid range.', 'code': 400001}}}], 'humedad-relativa': [{'status_code': 400, 'errors': {'error': {'message': 'The value NaN is not in a valid range.', 'code': 400001}}}], 'position': [{'status_code': 201}], 'potencia': [{'status_code': 400, 'errors': {'error': {'message': 'The value NaN is not in a valid range.', 'code': 400001}}}], 'presion-atmosferica': [{'status_code': 400, 'errors': {'error': {'message': 'The value NaN is not in a valid range.', 'code': 400001}}}], 'radiacion-solar': [{'status_code': 400, 'errors': {'error': {'message': 'The value NaN is not in a valid range.', 'code': 400001}}}], 'temperatura': [{'status_code': 400, 'errors': {'error': {'message': 'The value NaN is not in a valid range.', 'code': 400001}}}], 'velocidad': [{'status_code': 400, 'errors': {'error': {'message': 'The value NaN is not in a valid range.', 'code': 400001}}}]}\n",
      "[INFO] request made properly, your device is updated\n",
      "[INFO] finished\n",
      "[INFO] Attemping to send data\n",
      "200 {'fecha': [{'status_code': 400, 'errors': {'error': {'message': 'The value NaN is not in a valid range.', 'code': 400001}}}], 'hora': [{'status_code': 400, 'errors': {'error': {'message': 'The value NaN is not in a valid range.', 'code': 400001}}}], 'humedad-relativa': [{'status_code': 400, 'errors': {'error': {'message': 'The value NaN is not in a valid range.', 'code': 400001}}}], 'position': [{'status_code': 201}], 'potencia': [{'status_code': 400, 'errors': {'error': {'message': 'The value NaN is not in a valid range.', 'code': 400001}}}], 'presion-atmosferica': [{'status_code': 400, 'errors': {'error': {'message': 'The value NaN is not in a valid range.', 'code': 400001}}}], 'radiacion-solar': [{'status_code': 400, 'errors': {'error': {'message': 'The value NaN is not in a valid range.', 'code': 400001}}}], 'temperatura': [{'status_code': 400, 'errors': {'error': {'message': 'The value NaN is not in a valid range.', 'code': 400001}}}], 'velocidad': [{'status_code': 400, 'errors': {'error': {'message': 'The value NaN is not in a valid range.', 'code': 400001}}}]}\n",
      "[INFO] request made properly, your device is updated\n",
      "[INFO] finished\n",
      "[INFO] Attemping to send data\n"
     ]
    },
    {
     "ename": "KeyboardInterrupt",
     "evalue": "",
     "output_type": "error",
     "traceback": [
      "\u001b[1;31m---------------------------------------------------------------------------\u001b[0m",
      "\u001b[1;31mKeyboardInterrupt\u001b[0m                         Traceback (most recent call last)",
      "Cell \u001b[1;32mIn[4], line 91\u001b[0m\n\u001b[0;32m     89\u001b[0m \u001b[39mif\u001b[39;00m \u001b[39m__name__\u001b[39m \u001b[39m==\u001b[39m \u001b[39m'\u001b[39m\u001b[39m__main__\u001b[39m\u001b[39m'\u001b[39m:\n\u001b[0;32m     90\u001b[0m     \u001b[39mwhile\u001b[39;00m (\u001b[39mTrue\u001b[39;00m):\n\u001b[1;32m---> 91\u001b[0m         main()\n\u001b[0;32m     92\u001b[0m         time\u001b[39m.\u001b[39msleep(\u001b[39m1\u001b[39m)\n",
      "Cell \u001b[1;32mIn[4], line 85\u001b[0m, in \u001b[0;36mmain\u001b[1;34m()\u001b[0m\n\u001b[0;32m     81\u001b[0m payload \u001b[39m=\u001b[39m build_payload(\n\u001b[0;32m     82\u001b[0m     VARIABLE_LABEL_1, VARIABLE_LABEL_2, VARIABLE_LABEL_3, VARIABLE_LABEL_4, VARIABLE_LABEL_5, VARIABLE_LABEL_6, VARIABLE_LABEL_7, VARIABLE_LABEL_8, VARIABLE_LABEL_9)\n\u001b[0;32m     84\u001b[0m \u001b[39mprint\u001b[39m(\u001b[39m\"\u001b[39m\u001b[39m[INFO] Attemping to send data\u001b[39m\u001b[39m\"\u001b[39m)\n\u001b[1;32m---> 85\u001b[0m post_request(payload)\n\u001b[0;32m     86\u001b[0m \u001b[39mprint\u001b[39m(\u001b[39m\"\u001b[39m\u001b[39m[INFO] finished\u001b[39m\u001b[39m\"\u001b[39m)\n",
      "Cell \u001b[1;32mIn[4], line 64\u001b[0m, in \u001b[0;36mpost_request\u001b[1;34m(payload)\u001b[0m\n\u001b[0;32m     62\u001b[0m attempts \u001b[39m=\u001b[39m \u001b[39m0\u001b[39m\n\u001b[0;32m     63\u001b[0m \u001b[39mwhile\u001b[39;00m status \u001b[39m>\u001b[39m\u001b[39m=\u001b[39m \u001b[39m400\u001b[39m \u001b[39mand\u001b[39;00m attempts \u001b[39m<\u001b[39m\u001b[39m=\u001b[39m \u001b[39m5\u001b[39m:\n\u001b[1;32m---> 64\u001b[0m     req \u001b[39m=\u001b[39m requests\u001b[39m.\u001b[39;49mpost(url\u001b[39m=\u001b[39;49murl, headers\u001b[39m=\u001b[39;49mheaders, json\u001b[39m=\u001b[39;49mpayload)\n\u001b[0;32m     65\u001b[0m     status \u001b[39m=\u001b[39m req\u001b[39m.\u001b[39mstatus_code\n\u001b[0;32m     66\u001b[0m     attempts \u001b[39m+\u001b[39m\u001b[39m=\u001b[39m \u001b[39m1\u001b[39m\n",
      "File \u001b[1;32m~\\AppData\\Local\\Packages\\PythonSoftwareFoundation.Python.3.10_qbz5n2kfra8p0\\LocalCache\\local-packages\\Python310\\site-packages\\requests\\api.py:115\u001b[0m, in \u001b[0;36mpost\u001b[1;34m(url, data, json, **kwargs)\u001b[0m\n\u001b[0;32m    103\u001b[0m \u001b[39mdef\u001b[39;00m \u001b[39mpost\u001b[39m(url, data\u001b[39m=\u001b[39m\u001b[39mNone\u001b[39;00m, json\u001b[39m=\u001b[39m\u001b[39mNone\u001b[39;00m, \u001b[39m*\u001b[39m\u001b[39m*\u001b[39mkwargs):\n\u001b[0;32m    104\u001b[0m \u001b[39m    \u001b[39m\u001b[39mr\u001b[39m\u001b[39m\"\"\"Sends a POST request.\u001b[39;00m\n\u001b[0;32m    105\u001b[0m \n\u001b[0;32m    106\u001b[0m \u001b[39m    :param url: URL for the new :class:`Request` object.\u001b[39;00m\n\u001b[1;32m   (...)\u001b[0m\n\u001b[0;32m    112\u001b[0m \u001b[39m    :rtype: requests.Response\u001b[39;00m\n\u001b[0;32m    113\u001b[0m \u001b[39m    \"\"\"\u001b[39;00m\n\u001b[1;32m--> 115\u001b[0m     \u001b[39mreturn\u001b[39;00m request(\u001b[39m\"\u001b[39m\u001b[39mpost\u001b[39m\u001b[39m\"\u001b[39m, url, data\u001b[39m=\u001b[39mdata, json\u001b[39m=\u001b[39mjson, \u001b[39m*\u001b[39m\u001b[39m*\u001b[39mkwargs)\n",
      "File \u001b[1;32m~\\AppData\\Local\\Packages\\PythonSoftwareFoundation.Python.3.10_qbz5n2kfra8p0\\LocalCache\\local-packages\\Python310\\site-packages\\requests\\api.py:59\u001b[0m, in \u001b[0;36mrequest\u001b[1;34m(method, url, **kwargs)\u001b[0m\n\u001b[0;32m     55\u001b[0m \u001b[39m# By using the 'with' statement we are sure the session is closed, thus we\u001b[39;00m\n\u001b[0;32m     56\u001b[0m \u001b[39m# avoid leaving sockets open which can trigger a ResourceWarning in some\u001b[39;00m\n\u001b[0;32m     57\u001b[0m \u001b[39m# cases, and look like a memory leak in others.\u001b[39;00m\n\u001b[0;32m     58\u001b[0m \u001b[39mwith\u001b[39;00m sessions\u001b[39m.\u001b[39mSession() \u001b[39mas\u001b[39;00m session:\n\u001b[1;32m---> 59\u001b[0m     \u001b[39mreturn\u001b[39;00m session\u001b[39m.\u001b[39mrequest(method\u001b[39m=\u001b[39mmethod, url\u001b[39m=\u001b[39murl, \u001b[39m*\u001b[39m\u001b[39m*\u001b[39mkwargs)\n",
      "File \u001b[1;32m~\\AppData\\Local\\Packages\\PythonSoftwareFoundation.Python.3.10_qbz5n2kfra8p0\\LocalCache\\local-packages\\Python310\\site-packages\\requests\\sessions.py:587\u001b[0m, in \u001b[0;36mSession.request\u001b[1;34m(self, method, url, params, data, headers, cookies, files, auth, timeout, allow_redirects, proxies, hooks, stream, verify, cert, json)\u001b[0m\n\u001b[0;32m    582\u001b[0m send_kwargs \u001b[39m=\u001b[39m {\n\u001b[0;32m    583\u001b[0m     \u001b[39m\"\u001b[39m\u001b[39mtimeout\u001b[39m\u001b[39m\"\u001b[39m: timeout,\n\u001b[0;32m    584\u001b[0m     \u001b[39m\"\u001b[39m\u001b[39mallow_redirects\u001b[39m\u001b[39m\"\u001b[39m: allow_redirects,\n\u001b[0;32m    585\u001b[0m }\n\u001b[0;32m    586\u001b[0m send_kwargs\u001b[39m.\u001b[39mupdate(settings)\n\u001b[1;32m--> 587\u001b[0m resp \u001b[39m=\u001b[39m \u001b[39mself\u001b[39m\u001b[39m.\u001b[39msend(prep, \u001b[39m*\u001b[39m\u001b[39m*\u001b[39msend_kwargs)\n\u001b[0;32m    589\u001b[0m \u001b[39mreturn\u001b[39;00m resp\n",
      "File \u001b[1;32m~\\AppData\\Local\\Packages\\PythonSoftwareFoundation.Python.3.10_qbz5n2kfra8p0\\LocalCache\\local-packages\\Python310\\site-packages\\requests\\sessions.py:701\u001b[0m, in \u001b[0;36mSession.send\u001b[1;34m(self, request, **kwargs)\u001b[0m\n\u001b[0;32m    698\u001b[0m start \u001b[39m=\u001b[39m preferred_clock()\n\u001b[0;32m    700\u001b[0m \u001b[39m# Send the request\u001b[39;00m\n\u001b[1;32m--> 701\u001b[0m r \u001b[39m=\u001b[39m adapter\u001b[39m.\u001b[39msend(request, \u001b[39m*\u001b[39m\u001b[39m*\u001b[39mkwargs)\n\u001b[0;32m    703\u001b[0m \u001b[39m# Total elapsed time of the request (approximately)\u001b[39;00m\n\u001b[0;32m    704\u001b[0m elapsed \u001b[39m=\u001b[39m preferred_clock() \u001b[39m-\u001b[39m start\n",
      "File \u001b[1;32m~\\AppData\\Local\\Packages\\PythonSoftwareFoundation.Python.3.10_qbz5n2kfra8p0\\LocalCache\\local-packages\\Python310\\site-packages\\requests\\adapters.py:489\u001b[0m, in \u001b[0;36mHTTPAdapter.send\u001b[1;34m(self, request, stream, timeout, verify, cert, proxies)\u001b[0m\n\u001b[0;32m    487\u001b[0m \u001b[39mtry\u001b[39;00m:\n\u001b[0;32m    488\u001b[0m     \u001b[39mif\u001b[39;00m \u001b[39mnot\u001b[39;00m chunked:\n\u001b[1;32m--> 489\u001b[0m         resp \u001b[39m=\u001b[39m conn\u001b[39m.\u001b[39;49murlopen(\n\u001b[0;32m    490\u001b[0m             method\u001b[39m=\u001b[39;49mrequest\u001b[39m.\u001b[39;49mmethod,\n\u001b[0;32m    491\u001b[0m             url\u001b[39m=\u001b[39;49murl,\n\u001b[0;32m    492\u001b[0m             body\u001b[39m=\u001b[39;49mrequest\u001b[39m.\u001b[39;49mbody,\n\u001b[0;32m    493\u001b[0m             headers\u001b[39m=\u001b[39;49mrequest\u001b[39m.\u001b[39;49mheaders,\n\u001b[0;32m    494\u001b[0m             redirect\u001b[39m=\u001b[39;49m\u001b[39mFalse\u001b[39;49;00m,\n\u001b[0;32m    495\u001b[0m             assert_same_host\u001b[39m=\u001b[39;49m\u001b[39mFalse\u001b[39;49;00m,\n\u001b[0;32m    496\u001b[0m             preload_content\u001b[39m=\u001b[39;49m\u001b[39mFalse\u001b[39;49;00m,\n\u001b[0;32m    497\u001b[0m             decode_content\u001b[39m=\u001b[39;49m\u001b[39mFalse\u001b[39;49;00m,\n\u001b[0;32m    498\u001b[0m             retries\u001b[39m=\u001b[39;49m\u001b[39mself\u001b[39;49m\u001b[39m.\u001b[39;49mmax_retries,\n\u001b[0;32m    499\u001b[0m             timeout\u001b[39m=\u001b[39;49mtimeout,\n\u001b[0;32m    500\u001b[0m         )\n\u001b[0;32m    502\u001b[0m     \u001b[39m# Send the request.\u001b[39;00m\n\u001b[0;32m    503\u001b[0m     \u001b[39melse\u001b[39;00m:\n\u001b[0;32m    504\u001b[0m         \u001b[39mif\u001b[39;00m \u001b[39mhasattr\u001b[39m(conn, \u001b[39m\"\u001b[39m\u001b[39mproxy_pool\u001b[39m\u001b[39m\"\u001b[39m):\n",
      "File \u001b[1;32m~\\AppData\\Local\\Packages\\PythonSoftwareFoundation.Python.3.10_qbz5n2kfra8p0\\LocalCache\\local-packages\\Python310\\site-packages\\urllib3\\connectionpool.py:703\u001b[0m, in \u001b[0;36mHTTPConnectionPool.urlopen\u001b[1;34m(self, method, url, body, headers, retries, redirect, assert_same_host, timeout, pool_timeout, release_conn, chunked, body_pos, **response_kw)\u001b[0m\n\u001b[0;32m    700\u001b[0m     \u001b[39mself\u001b[39m\u001b[39m.\u001b[39m_prepare_proxy(conn)\n\u001b[0;32m    702\u001b[0m \u001b[39m# Make the request on the httplib connection object.\u001b[39;00m\n\u001b[1;32m--> 703\u001b[0m httplib_response \u001b[39m=\u001b[39m \u001b[39mself\u001b[39;49m\u001b[39m.\u001b[39;49m_make_request(\n\u001b[0;32m    704\u001b[0m     conn,\n\u001b[0;32m    705\u001b[0m     method,\n\u001b[0;32m    706\u001b[0m     url,\n\u001b[0;32m    707\u001b[0m     timeout\u001b[39m=\u001b[39;49mtimeout_obj,\n\u001b[0;32m    708\u001b[0m     body\u001b[39m=\u001b[39;49mbody,\n\u001b[0;32m    709\u001b[0m     headers\u001b[39m=\u001b[39;49mheaders,\n\u001b[0;32m    710\u001b[0m     chunked\u001b[39m=\u001b[39;49mchunked,\n\u001b[0;32m    711\u001b[0m )\n\u001b[0;32m    713\u001b[0m \u001b[39m# If we're going to release the connection in ``finally:``, then\u001b[39;00m\n\u001b[0;32m    714\u001b[0m \u001b[39m# the response doesn't need to know about the connection. Otherwise\u001b[39;00m\n\u001b[0;32m    715\u001b[0m \u001b[39m# it will also try to release it and we'll have a double-release\u001b[39;00m\n\u001b[0;32m    716\u001b[0m \u001b[39m# mess.\u001b[39;00m\n\u001b[0;32m    717\u001b[0m response_conn \u001b[39m=\u001b[39m conn \u001b[39mif\u001b[39;00m \u001b[39mnot\u001b[39;00m release_conn \u001b[39melse\u001b[39;00m \u001b[39mNone\u001b[39;00m\n",
      "File \u001b[1;32m~\\AppData\\Local\\Packages\\PythonSoftwareFoundation.Python.3.10_qbz5n2kfra8p0\\LocalCache\\local-packages\\Python310\\site-packages\\urllib3\\connectionpool.py:449\u001b[0m, in \u001b[0;36mHTTPConnectionPool._make_request\u001b[1;34m(self, conn, method, url, timeout, chunked, **httplib_request_kw)\u001b[0m\n\u001b[0;32m    444\u001b[0m             httplib_response \u001b[39m=\u001b[39m conn\u001b[39m.\u001b[39mgetresponse()\n\u001b[0;32m    445\u001b[0m         \u001b[39mexcept\u001b[39;00m \u001b[39mBaseException\u001b[39;00m \u001b[39mas\u001b[39;00m e:\n\u001b[0;32m    446\u001b[0m             \u001b[39m# Remove the TypeError from the exception chain in\u001b[39;00m\n\u001b[0;32m    447\u001b[0m             \u001b[39m# Python 3 (including for exceptions like SystemExit).\u001b[39;00m\n\u001b[0;32m    448\u001b[0m             \u001b[39m# Otherwise it looks like a bug in the code.\u001b[39;00m\n\u001b[1;32m--> 449\u001b[0m             six\u001b[39m.\u001b[39;49mraise_from(e, \u001b[39mNone\u001b[39;49;00m)\n\u001b[0;32m    450\u001b[0m \u001b[39mexcept\u001b[39;00m (SocketTimeout, BaseSSLError, SocketError) \u001b[39mas\u001b[39;00m e:\n\u001b[0;32m    451\u001b[0m     \u001b[39mself\u001b[39m\u001b[39m.\u001b[39m_raise_timeout(err\u001b[39m=\u001b[39me, url\u001b[39m=\u001b[39murl, timeout_value\u001b[39m=\u001b[39mread_timeout)\n",
      "File \u001b[1;32m<string>:3\u001b[0m, in \u001b[0;36mraise_from\u001b[1;34m(value, from_value)\u001b[0m\n",
      "File \u001b[1;32m~\\AppData\\Local\\Packages\\PythonSoftwareFoundation.Python.3.10_qbz5n2kfra8p0\\LocalCache\\local-packages\\Python310\\site-packages\\urllib3\\connectionpool.py:444\u001b[0m, in \u001b[0;36mHTTPConnectionPool._make_request\u001b[1;34m(self, conn, method, url, timeout, chunked, **httplib_request_kw)\u001b[0m\n\u001b[0;32m    441\u001b[0m \u001b[39mexcept\u001b[39;00m \u001b[39mTypeError\u001b[39;00m:\n\u001b[0;32m    442\u001b[0m     \u001b[39m# Python 3\u001b[39;00m\n\u001b[0;32m    443\u001b[0m     \u001b[39mtry\u001b[39;00m:\n\u001b[1;32m--> 444\u001b[0m         httplib_response \u001b[39m=\u001b[39m conn\u001b[39m.\u001b[39;49mgetresponse()\n\u001b[0;32m    445\u001b[0m     \u001b[39mexcept\u001b[39;00m \u001b[39mBaseException\u001b[39;00m \u001b[39mas\u001b[39;00m e:\n\u001b[0;32m    446\u001b[0m         \u001b[39m# Remove the TypeError from the exception chain in\u001b[39;00m\n\u001b[0;32m    447\u001b[0m         \u001b[39m# Python 3 (including for exceptions like SystemExit).\u001b[39;00m\n\u001b[0;32m    448\u001b[0m         \u001b[39m# Otherwise it looks like a bug in the code.\u001b[39;00m\n\u001b[0;32m    449\u001b[0m         six\u001b[39m.\u001b[39mraise_from(e, \u001b[39mNone\u001b[39;00m)\n",
      "File \u001b[1;32mC:\\Program Files\\WindowsApps\\PythonSoftwareFoundation.Python.3.10_3.10.2544.0_x64__qbz5n2kfra8p0\\lib\\http\\client.py:1374\u001b[0m, in \u001b[0;36mHTTPConnection.getresponse\u001b[1;34m(self)\u001b[0m\n\u001b[0;32m   1372\u001b[0m \u001b[39mtry\u001b[39;00m:\n\u001b[0;32m   1373\u001b[0m     \u001b[39mtry\u001b[39;00m:\n\u001b[1;32m-> 1374\u001b[0m         response\u001b[39m.\u001b[39;49mbegin()\n\u001b[0;32m   1375\u001b[0m     \u001b[39mexcept\u001b[39;00m \u001b[39mConnectionError\u001b[39;00m:\n\u001b[0;32m   1376\u001b[0m         \u001b[39mself\u001b[39m\u001b[39m.\u001b[39mclose()\n",
      "File \u001b[1;32mC:\\Program Files\\WindowsApps\\PythonSoftwareFoundation.Python.3.10_3.10.2544.0_x64__qbz5n2kfra8p0\\lib\\http\\client.py:318\u001b[0m, in \u001b[0;36mHTTPResponse.begin\u001b[1;34m(self)\u001b[0m\n\u001b[0;32m    316\u001b[0m \u001b[39m# read until we get a non-100 response\u001b[39;00m\n\u001b[0;32m    317\u001b[0m \u001b[39mwhile\u001b[39;00m \u001b[39mTrue\u001b[39;00m:\n\u001b[1;32m--> 318\u001b[0m     version, status, reason \u001b[39m=\u001b[39m \u001b[39mself\u001b[39;49m\u001b[39m.\u001b[39;49m_read_status()\n\u001b[0;32m    319\u001b[0m     \u001b[39mif\u001b[39;00m status \u001b[39m!=\u001b[39m CONTINUE:\n\u001b[0;32m    320\u001b[0m         \u001b[39mbreak\u001b[39;00m\n",
      "File \u001b[1;32mC:\\Program Files\\WindowsApps\\PythonSoftwareFoundation.Python.3.10_3.10.2544.0_x64__qbz5n2kfra8p0\\lib\\http\\client.py:279\u001b[0m, in \u001b[0;36mHTTPResponse._read_status\u001b[1;34m(self)\u001b[0m\n\u001b[0;32m    278\u001b[0m \u001b[39mdef\u001b[39;00m \u001b[39m_read_status\u001b[39m(\u001b[39mself\u001b[39m):\n\u001b[1;32m--> 279\u001b[0m     line \u001b[39m=\u001b[39m \u001b[39mstr\u001b[39m(\u001b[39mself\u001b[39;49m\u001b[39m.\u001b[39;49mfp\u001b[39m.\u001b[39;49mreadline(_MAXLINE \u001b[39m+\u001b[39;49m \u001b[39m1\u001b[39;49m), \u001b[39m\"\u001b[39m\u001b[39miso-8859-1\u001b[39m\u001b[39m\"\u001b[39m)\n\u001b[0;32m    280\u001b[0m     \u001b[39mif\u001b[39;00m \u001b[39mlen\u001b[39m(line) \u001b[39m>\u001b[39m _MAXLINE:\n\u001b[0;32m    281\u001b[0m         \u001b[39mraise\u001b[39;00m LineTooLong(\u001b[39m\"\u001b[39m\u001b[39mstatus line\u001b[39m\u001b[39m\"\u001b[39m)\n",
      "File \u001b[1;32mC:\\Program Files\\WindowsApps\\PythonSoftwareFoundation.Python.3.10_3.10.2544.0_x64__qbz5n2kfra8p0\\lib\\socket.py:705\u001b[0m, in \u001b[0;36mSocketIO.readinto\u001b[1;34m(self, b)\u001b[0m\n\u001b[0;32m    703\u001b[0m \u001b[39mwhile\u001b[39;00m \u001b[39mTrue\u001b[39;00m:\n\u001b[0;32m    704\u001b[0m     \u001b[39mtry\u001b[39;00m:\n\u001b[1;32m--> 705\u001b[0m         \u001b[39mreturn\u001b[39;00m \u001b[39mself\u001b[39;49m\u001b[39m.\u001b[39;49m_sock\u001b[39m.\u001b[39;49mrecv_into(b)\n\u001b[0;32m    706\u001b[0m     \u001b[39mexcept\u001b[39;00m timeout:\n\u001b[0;32m    707\u001b[0m         \u001b[39mself\u001b[39m\u001b[39m.\u001b[39m_timeout_occurred \u001b[39m=\u001b[39m \u001b[39mTrue\u001b[39;00m\n",
      "\u001b[1;31mKeyboardInterrupt\u001b[0m: "
     ]
    }
   ],
   "source": [
    "\n",
    "import time\n",
    "import requests\n",
    "import math\n",
    "import random\n",
    "import pandas as pd\n",
    "import numpy as np\n",
    "\n",
    "TOKEN = \"BBFF-xq4ANXPuJOsDpJ7gvAdQPuJlnsKjMb\"  # Put your TOKEN here\n",
    "DEVICE_LABEL = \"regresion-lineal\"  # Put your device label here \n",
    "\n",
    "VARIABLE_LABEL_1 = \"fecha\"  # Put your first variable label here\n",
    "VARIABLE_LABEL_2 = \"hora\"  # Put your first variable label here\n",
    "VARIABLE_LABEL_3 = \"temperatura\"  # Put your first variable label here\n",
    "VARIABLE_LABEL_4 = \"humedad relativa\"  # Put your second variable label here\n",
    "VARIABLE_LABEL_5 = \"presión atmosférica\"  # Put your second variable label here\n",
    "VARIABLE_LABEL_6 = \"radiación solar\"  # Put your first variable label here\n",
    "VARIABLE_LABEL_7 = \"velocidad\"  # Put your second variable label here\n",
    "VARIABLE_LABEL_8 = \"potencia\"  # Put your second variable label here\n",
    "VARIABLE_LABEL_9 = \"position\"  # Put your second variable label here\n",
    "\n",
    "df= pd.DataFrame(dataframe)\n",
    "dataframe = pd.read_csv('Data.csv', sep=';',encoding ='latin-1')\n",
    "\n",
    "\n",
    "def build_payload(variable_1, variable_2, variable_3, variable_4, variable_5, variable_6, variable_7, variable_8, variable_9):\n",
    "    # Creates two random values for sending data\n",
    "    value_1 = dataframe.columns[0]\n",
    "    value_2 = dataframe.columns[1]\n",
    "    value_3 = dataframe.columns[2]\n",
    "    value_4 = dataframe.columns[3]\n",
    "    value_5 = dataframe.columns[4]\n",
    "    value_6 = dataframe.columns[5]\n",
    "    value_7 = dataframe.columns[6]\n",
    "    value_8 = dataframe.columns[7]\n",
    "\n",
    "    # Creates a random gps coordinates\n",
    "    lat = random.randrange(34, 36, 1) + \\\n",
    "        random.randrange(1, 1000, 1) / 1000.0\n",
    "    lng = random.randrange(-83, -87, -1) + \\\n",
    "        random.randrange(1, 1000, 1) / 1000.0\n",
    "    payload = {variable_1: value_1,\n",
    "               variable_2: value_2,\n",
    "               variable_3: value_3,\n",
    "                variable_4: value_4,\n",
    "                 variable_5: value_5,\n",
    "                  variable_6: value_6,\n",
    "                   variable_7: value_7,\n",
    "                    variable_8: value_8,\n",
    "                     variable_9: {\"value\": 1, \"context\": {\"lat\": lat, \"lng\": lng}}}\n",
    "\n",
    "    return payload\n",
    "\n",
    "\n",
    "def post_request(payload):\n",
    "    # Creates the headers for the HTTP requests\n",
    "    url = \"http://industrial.api.ubidots.com\"\n",
    "    url = \"{}/api/v1.6/devices/{}\".format(url, DEVICE_LABEL)\n",
    "    headers = {\"X-Auth-Token\": TOKEN, \"Content-Type\": \"application/json\"}\n",
    "\n",
    "    # Makes the HTTP requests\n",
    "    status = 400\n",
    "    attempts = 0\n",
    "    while status >= 400 and attempts <= 5:\n",
    "        req = requests.post(url=url, headers=headers, json=payload)\n",
    "        status = req.status_code\n",
    "        attempts += 1\n",
    "        time.sleep(1)\n",
    "\n",
    "    # Processes results\n",
    "    print(req.status_code, req.json())\n",
    "    if status >= 400:\n",
    "        print(\"[ERROR] Could not send data after 5 attempts, please check \\\n",
    "            your token credentials and internet connection\")\n",
    "        return False\n",
    "\n",
    "    print(\"[INFO] request made properly, your device is updated\")\n",
    "    return True\n",
    "\n",
    "\n",
    "def main():\n",
    "    payload = build_payload(\n",
    "        VARIABLE_LABEL_1, VARIABLE_LABEL_2, VARIABLE_LABEL_3, VARIABLE_LABEL_4, VARIABLE_LABEL_5, VARIABLE_LABEL_6, VARIABLE_LABEL_7, VARIABLE_LABEL_8, VARIABLE_LABEL_9)\n",
    "\n",
    "    print(\"[INFO] Attemping to send data\")\n",
    "    post_request(payload)\n",
    "    print(\"[INFO] finished\")\n",
    "\n",
    "\n",
    "if __name__ == '__main__':\n",
    "    while (True):\n",
    "        main()\n",
    "        time.sleep(1)"
   ]
  },
  {
   "cell_type": "code",
   "execution_count": null,
   "id": "c3a04c5f",
   "metadata": {},
   "outputs": [
    {
     "name": "stdout",
     "output_type": "stream",
     "text": [
      "            fecha          hora  temperatura  Humedad Relativa  \\\n",
      "0       01/01/2016  12:00:07 AM       30.017            71.095   \n",
      "1       01/01/2016  12:01:06 AM       29.989            71.328   \n",
      "2       01/01/2016  12:02:06 AM       29.983            71.232   \n",
      "3       01/01/2016  12:03:06 AM       29.921            71.333   \n",
      "4       01/01/2016  12:04:06 AM       29.860            71.740   \n",
      "...            ...          ...          ...               ...   \n",
      "118892  06/23/2016   7:00:09 PM       29.211            63.918   \n",
      "118893  06/23/2016   8:00:10 PM       28.760            66.897   \n",
      "118894  06/23/2016   9:00:10 PM       28.158            71.015   \n",
      "118895  06/23/2016  10:00:10 PM       28.003            72.262   \n",
      "118896  06/23/2016  11:00:10 PM       27.784            72.638   \n",
      "\n",
      "        PresionAtmosferica  RadiacionSolar  Velocidad  Potencia  \n",
      "0                  1015.61           0.074      1.703  -36.6627  \n",
      "1                  1015.61           0.165      0.859  -38.4633  \n",
      "2                  1015.61           0.292      2.633  -39.4124  \n",
      "3                  1015.61           0.467      2.016  -39.8277  \n",
      "4                  1015.61           0.480      1.789  -40.0013  \n",
      "...                    ...             ...        ...       ...  \n",
      "118892             1002.69         939.516      0.391  -38.1627  \n",
      "118893             1002.69         807.728      0.211  -38.1692  \n",
      "118894             1002.69         794.894      1.367  -38.1722  \n",
      "118895             1002.69        1004.394      1.375  -38.1668  \n",
      "118896             1002.69        1074.411      1.648  -38.1796  \n",
      "\n",
      "[118895 rows x 8 columns]\n"
     ]
    },
    {
     "data": {
      "text/plain": [
       "fecha                  object\n",
       "hora                   object\n",
       "temperatura           float64\n",
       "Humedad Relativa      float64\n",
       "PresionAtmosferica    float64\n",
       "RadiacionSolar        float64\n",
       "Velocidad             float64\n",
       "Potencia              float64\n",
       "dtype: object"
      ]
     },
     "execution_count": 2,
     "metadata": {},
     "output_type": "execute_result"
    }
   ],
   "source": [
    "#dataframe.describe()\n",
    "#dataframe.isnull()\n",
    "#dataframe.isnull().sum()\n",
    "dataframe.dropna(inplace=True)\n",
    "dataframe.isnull().sum().sum()\n",
    "print(dataframe)\n",
    "dataframe.dtypes"
   ]
  },
  {
   "cell_type": "code",
   "execution_count": null,
   "id": "61e5dfc4",
   "metadata": {},
   "outputs": [
    {
     "data": {
      "text/html": [
       "<div>\n",
       "<style scoped>\n",
       "    .dataframe tbody tr th:only-of-type {\n",
       "        vertical-align: middle;\n",
       "    }\n",
       "\n",
       "    .dataframe tbody tr th {\n",
       "        vertical-align: top;\n",
       "    }\n",
       "\n",
       "    .dataframe thead th {\n",
       "        text-align: right;\n",
       "    }\n",
       "</style>\n",
       "<table border=\"1\" class=\"dataframe\">\n",
       "  <thead>\n",
       "    <tr style=\"text-align: right;\">\n",
       "      <th></th>\n",
       "      <th>fecha</th>\n",
       "      <th>hora</th>\n",
       "      <th>temperatura</th>\n",
       "      <th>Humedad Relativa</th>\n",
       "      <th>PresionAtmosferica</th>\n",
       "      <th>RadiacionSolar</th>\n",
       "      <th>Velocidad</th>\n",
       "      <th>Potencia</th>\n",
       "    </tr>\n",
       "  </thead>\n",
       "  <tbody>\n",
       "    <tr>\n",
       "      <th>0</th>\n",
       "      <td>01/01/2016</td>\n",
       "      <td>12:00:07 AM</td>\n",
       "      <td>30.017</td>\n",
       "      <td>71.095</td>\n",
       "      <td>1015.61</td>\n",
       "      <td>0.074</td>\n",
       "      <td>1.703</td>\n",
       "      <td>-36.6627</td>\n",
       "    </tr>\n",
       "    <tr>\n",
       "      <th>1</th>\n",
       "      <td>01/01/2016</td>\n",
       "      <td>12:01:06 AM</td>\n",
       "      <td>29.989</td>\n",
       "      <td>71.328</td>\n",
       "      <td>1015.61</td>\n",
       "      <td>0.165</td>\n",
       "      <td>0.859</td>\n",
       "      <td>-38.4633</td>\n",
       "    </tr>\n",
       "    <tr>\n",
       "      <th>2</th>\n",
       "      <td>01/01/2016</td>\n",
       "      <td>12:02:06 AM</td>\n",
       "      <td>29.983</td>\n",
       "      <td>71.232</td>\n",
       "      <td>1015.61</td>\n",
       "      <td>0.292</td>\n",
       "      <td>2.633</td>\n",
       "      <td>-39.4124</td>\n",
       "    </tr>\n",
       "    <tr>\n",
       "      <th>3</th>\n",
       "      <td>01/01/2016</td>\n",
       "      <td>12:03:06 AM</td>\n",
       "      <td>29.921</td>\n",
       "      <td>71.333</td>\n",
       "      <td>1015.61</td>\n",
       "      <td>0.467</td>\n",
       "      <td>2.016</td>\n",
       "      <td>-39.8277</td>\n",
       "    </tr>\n",
       "    <tr>\n",
       "      <th>4</th>\n",
       "      <td>01/01/2016</td>\n",
       "      <td>12:04:06 AM</td>\n",
       "      <td>29.860</td>\n",
       "      <td>71.740</td>\n",
       "      <td>1015.61</td>\n",
       "      <td>0.480</td>\n",
       "      <td>1.789</td>\n",
       "      <td>-40.0013</td>\n",
       "    </tr>\n",
       "  </tbody>\n",
       "</table>\n",
       "</div>"
      ],
      "text/plain": [
       "       fecha          hora  temperatura  Humedad Relativa  PresionAtmosferica  \\\n",
       "0  01/01/2016  12:00:07 AM       30.017            71.095             1015.61   \n",
       "1  01/01/2016  12:01:06 AM       29.989            71.328             1015.61   \n",
       "2  01/01/2016  12:02:06 AM       29.983            71.232             1015.61   \n",
       "3  01/01/2016  12:03:06 AM       29.921            71.333             1015.61   \n",
       "4  01/01/2016  12:04:06 AM       29.860            71.740             1015.61   \n",
       "\n",
       "   RadiacionSolar  Velocidad  Potencia  \n",
       "0           0.074      1.703  -36.6627  \n",
       "1           0.165      0.859  -38.4633  \n",
       "2           0.292      2.633  -39.4124  \n",
       "3           0.467      2.016  -39.8277  \n",
       "4           0.480      1.789  -40.0013  "
      ]
     },
     "execution_count": 3,
     "metadata": {},
     "output_type": "execute_result"
    }
   ],
   "source": [
    "X = dataframe.iloc[:, 2:7].values\n",
    "y = dataframe.iloc[:, 7].values\n",
    "#dataframe['PresionAtmosferica'] = dataframe['PresionAtmosferica'].apply(lambda x: x.replace(',','.'))\n",
    "#dataframe['PresionAtmosferica'] = dataframe['PresionAtmosferica'].astype(float)\n",
    "\n",
    "#dataframe['PresionAtmosferica']=dataframe['PresionAtmosferica'].replace(to_replace=',', value='.', regex=True)\n",
    "#dataframe.astype('PresionAtmosferica':float)\n",
    "#dataframe.dtypes\n",
    "dataframe.head(5)\n"
   ]
  },
  {
   "cell_type": "code",
   "execution_count": null,
   "id": "d494ab66",
   "metadata": {},
   "outputs": [],
   "source": [
    "from sklearn.model_selection import train_test_split\n",
    "\n",
    "X_train, X_test, y_train, y_test = train_test_split(X, y, test_size=0.2, random_state=0)"
   ]
  },
  {
   "cell_type": "code",
   "execution_count": null,
   "id": "be94b31a",
   "metadata": {},
   "outputs": [
    {
     "name": "stdout",
     "output_type": "stream",
     "text": [
      "[[-0.73060999 -1.29215334 -0.23784344 -0.33259576  0.56462383]\n",
      " [-0.42121906  0.83523909  0.90425807 -0.93872825 -1.04373651]\n",
      " [ 1.15064293  0.5573673  -0.91113473  1.27010992 -0.94641137]\n",
      " ...\n",
      " [-0.32279013  0.63975504  1.1635999   0.64918482  2.31897187]\n",
      " [-0.16794462  0.3937828  -2.87614782  1.64373014  0.41863612]\n",
      " [ 1.54645927  0.4421459  -0.76650179 -1.048161    0.52594332]]\n"
     ]
    }
   ],
   "source": [
    "from sklearn.preprocessing import StandardScaler\n",
    "\n",
    "sc = StandardScaler()\n",
    "X_train = sc.fit_transform(X_train)\n",
    "X_test = sc.transform(X_test)\n",
    "\n",
    "print(X_test)"
   ]
  },
  {
   "cell_type": "code",
   "execution_count": null,
   "id": "213ae2be",
   "metadata": {},
   "outputs": [
    {
     "name": "stdout",
     "output_type": "stream",
     "text": [
      "[[-0.52683422]\n",
      " [-1.56153771]\n",
      " [-0.3968474 ]\n",
      " ...\n",
      " [ 1.47689793]\n",
      " [ 1.02994676]\n",
      " [ 0.16707471]]\n"
     ]
    }
   ],
   "source": [
    "\n",
    "\n",
    "from sklearn.decomposition import PCA\n",
    "pca = PCA(n_components = 1)\n",
    "X_train = pca.fit_transform(X_train)\n",
    "X_test = pca.transform(X_test)\n",
    "print(X_train)"
   ]
  },
  {
   "cell_type": "code",
   "execution_count": null,
   "id": "53f1ccb3",
   "metadata": {},
   "outputs": [
    {
     "name": "stdout",
     "output_type": "stream",
     "text": [
      "[[ 1.14117622]\n",
      " [-0.06466682]\n",
      " [-0.56228182]\n",
      " ...\n",
      " [-1.30698904]\n",
      " [ 0.23350589]\n",
      " [-1.3089557 ]]\n"
     ]
    }
   ],
   "source": [
    "from sklearn import linear_model\n",
    "from sklearn.metrics import mean_squared_error, r2_score\n",
    "\n",
    "model = linear_model.LinearRegression()\n",
    "model.fit(X_train, y_train)\n",
    "#LinearRegression(copy_x=true, fit_intercept=True, n_jobs=None, normalize=False)\n",
    "y_pred = model.predict(X_test)\n",
    "print(X_test)"
   ]
  },
  {
   "cell_type": "code",
   "execution_count": null,
   "id": "9c3b3057",
   "metadata": {},
   "outputs": [
    {
     "name": "stdout",
     "output_type": "stream",
     "text": [
      "Coefficients: [0.09260949]\n",
      "Intercept: -38.41971724841246\n",
      "Mean squared error (MSE): 0.36\n",
      "Coefficient of determination (R^2): 0.04\n"
     ]
    }
   ],
   "source": [
    "print('Coefficients:', model.coef_)\n",
    "print('Intercept:', model.intercept_)\n",
    "print('Mean squared error (MSE): %.2f'\n",
    "      % mean_squared_error(y_test, y_pred))\n",
    "print('Coefficient of determination (R^2): %.2f'\n",
    "      % r2_score(y_test, y_pred))"
   ]
  },
  {
   "cell_type": "code",
   "execution_count": null,
   "id": "6619b717",
   "metadata": {},
   "outputs": [
    {
     "data": {
      "text/plain": [
       "0.036955819307802895"
      ]
     },
     "execution_count": 9,
     "metadata": {},
     "output_type": "execute_result"
    }
   ],
   "source": [
    "r2_score(y_test, y_pred)"
   ]
  },
  {
   "cell_type": "code",
   "execution_count": null,
   "id": "3851c1c7",
   "metadata": {},
   "outputs": [
    {
     "data": {
      "text/plain": [
       "dtype('float64')"
      ]
     },
     "execution_count": 10,
     "metadata": {},
     "output_type": "execute_result"
    }
   ],
   "source": [
    "r2_score(y_test, y_pred).dtype"
   ]
  },
  {
   "cell_type": "code",
   "execution_count": null,
   "id": "10c6d62d",
   "metadata": {},
   "outputs": [
    {
     "data": {
      "text/plain": [
       "'0.523811'"
      ]
     },
     "execution_count": 11,
     "metadata": {},
     "output_type": "execute_result"
    }
   ],
   "source": [
    "'%f' % 0.523810833536016"
   ]
  },
  {
   "cell_type": "code",
   "execution_count": null,
   "id": "22894e3e",
   "metadata": {},
   "outputs": [
    {
     "data": {
      "text/plain": [
       "array([-38.2961, -38.4584, -38.3016, ..., -39.3961, -38.1025, -38.0629])"
      ]
     },
     "execution_count": 12,
     "metadata": {},
     "output_type": "execute_result"
    }
   ],
   "source": [
    "import seaborn as sns\n",
    "y_test"
   ]
  },
  {
   "cell_type": "code",
   "execution_count": null,
   "id": "3b830bbc",
   "metadata": {},
   "outputs": [
    {
     "data": {
      "text/plain": [
       "array([-38.2961, -38.4584, -38.3016, ..., -39.3961, -38.1025, -38.0629])"
      ]
     },
     "execution_count": 13,
     "metadata": {},
     "output_type": "execute_result"
    }
   ],
   "source": [
    "import numpy as np\n",
    "np.array(y_test)"
   ]
  },
  {
   "cell_type": "code",
   "execution_count": null,
   "id": "3d41ccd9",
   "metadata": {},
   "outputs": [
    {
     "data": {
      "text/plain": [
       "array([-38.3140335 , -38.42570601, -38.47178988, ..., -38.54075684,\n",
       "       -38.39809239, -38.54093897])"
      ]
     },
     "execution_count": 14,
     "metadata": {},
     "output_type": "execute_result"
    }
   ],
   "source": [
    "y_pred"
   ]
  }
 ],
 "metadata": {
  "kernelspec": {
   "display_name": "Python 3",
   "language": "python",
   "name": "python3"
  },
  "language_info": {
   "codemirror_mode": {
    "name": "ipython",
    "version": 3
   },
   "file_extension": ".py",
   "mimetype": "text/x-python",
   "name": "python",
   "nbconvert_exporter": "python",
   "pygments_lexer": "ipython3",
   "version": "3.10.9 (tags/v3.10.9:1dd9be6, Dec  6 2022, 20:01:21) [MSC v.1934 64 bit (AMD64)]"
  },
  "vscode": {
   "interpreter": {
    "hash": "75b389007ee2eb1278a0e82040ed22990004f4cb011270214f6b4e69954ab37b"
   }
  }
 },
 "nbformat": 4,
 "nbformat_minor": 5
}
