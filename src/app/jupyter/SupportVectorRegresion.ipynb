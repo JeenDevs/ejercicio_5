{
 "cells": [
  {
   "cell_type": "code",
   "execution_count": 1,
   "id": "2ceb0220",
   "metadata": {},
   "outputs": [
    {
     "name": "stdout",
     "output_type": "stream",
     "text": [
      "            fecha          hora  temperatura  Humedad Relativa  \\\n",
      "0       01/01/2016  12:00:07 AM       30.017            71.095   \n",
      "1       01/01/2016  12:01:06 AM       29.989            71.328   \n",
      "2       01/01/2016  12:02:06 AM       29.983            71.232   \n",
      "3       01/01/2016  12:03:06 AM       29.921            71.333   \n",
      "4       01/01/2016  12:04:06 AM       29.860            71.740   \n",
      "...            ...          ...          ...               ...   \n",
      "999995         NaN          NaN          NaN               NaN   \n",
      "999996         NaN          NaN          NaN               NaN   \n",
      "999997         NaN          NaN          NaN               NaN   \n",
      "999998         NaN          NaN          NaN               NaN   \n",
      "999999         NaN          NaN          NaN               NaN   \n",
      "\n",
      "        PresionAtmosferica  RadiacionSolar  Velocidad  Potencia  \n",
      "0                  1015.61           0.074      1.703  -36.6627  \n",
      "1                  1015.61           0.165      0.859  -38.4633  \n",
      "2                  1015.61           0.292      2.633  -39.4124  \n",
      "3                  1015.61           0.467      2.016  -39.8277  \n",
      "4                  1015.61           0.480      1.789  -40.0013  \n",
      "...                    ...             ...        ...       ...  \n",
      "999995                 NaN             NaN        NaN       NaN  \n",
      "999996                 NaN             NaN        NaN       NaN  \n",
      "999997                 NaN             NaN        NaN       NaN  \n",
      "999998                 NaN             NaN        NaN       NaN  \n",
      "999999                 NaN             NaN        NaN       NaN  \n",
      "\n",
      "[1000000 rows x 8 columns]\n"
     ]
    },
    {
     "name": "stderr",
     "output_type": "stream",
     "text": [
      "C:\\Users\\AE5\\AppData\\Local\\Temp\\ipykernel_4848\\2622408133.py:6: DtypeWarning: Columns (0,1) have mixed types. Specify dtype option on import or set low_memory=False.\n",
      "  dataframe = pd.read_csv('Datos.csv', sep=';',encoding ='latin-1')\n"
     ]
    }
   ],
   "source": [
    "import pandas as pd\n",
    "import numpy as np\n",
    "import seaborn as sns\n",
    "\n",
    "#dataframe = pd.read_csv('Prueba2.csv', sep=';',encoding ='latin-1')\n",
    "dataframe = pd.read_csv('Datos.csv', sep=';',encoding ='latin-1')\n",
    "\n",
    "print(dataframe)"
   ]
  },
  {
   "cell_type": "code",
   "execution_count": 2,
   "id": "a5f9d0c0",
   "metadata": {},
   "outputs": [
    {
     "name": "stdout",
     "output_type": "stream",
     "text": [
      "            fecha          hora  temperatura  Humedad Relativa  \\\n",
      "0       01/01/2016  12:00:07 AM       30.017            71.095   \n",
      "1       01/01/2016  12:01:06 AM       29.989            71.328   \n",
      "2       01/01/2016  12:02:06 AM       29.983            71.232   \n",
      "3       01/01/2016  12:03:06 AM       29.921            71.333   \n",
      "4       01/01/2016  12:04:06 AM       29.860            71.740   \n",
      "...            ...          ...          ...               ...   \n",
      "118892  06/23/2016   7:00:09 PM       29.211            63.918   \n",
      "118893  06/23/2016   8:00:10 PM       28.760            66.897   \n",
      "118894  06/23/2016   9:00:10 PM       28.158            71.015   \n",
      "118895  06/23/2016  10:00:10 PM       28.003            72.262   \n",
      "118896  06/23/2016  11:00:10 PM       27.784            72.638   \n",
      "\n",
      "        PresionAtmosferica  RadiacionSolar  Velocidad  Potencia  \n",
      "0                  1015.61           0.074      1.703  -36.6627  \n",
      "1                  1015.61           0.165      0.859  -38.4633  \n",
      "2                  1015.61           0.292      2.633  -39.4124  \n",
      "3                  1015.61           0.467      2.016  -39.8277  \n",
      "4                  1015.61           0.480      1.789  -40.0013  \n",
      "...                    ...             ...        ...       ...  \n",
      "118892             1002.69         939.516      0.391  -38.1627  \n",
      "118893             1002.69         807.728      0.211  -38.1692  \n",
      "118894             1002.69         794.894      1.367  -38.1722  \n",
      "118895             1002.69        1004.394      1.375  -38.1668  \n",
      "118896             1002.69        1074.411      1.648  -38.1796  \n",
      "\n",
      "[118895 rows x 8 columns]\n",
      "[-36.6627 -38.4633 -39.4124 ... -38.1722 -38.1668 -38.1796]\n"
     ]
    }
   ],
   "source": [
    "dataframe.dropna(inplace=True)\n",
    "dataframe.isnull().sum().sum()\n",
    "print(dataframe)\n",
    "dataframe.dtypes\n",
    "#X = dataframe.iloc[:, 2:9].values\n",
    "#y = dataframe.iloc[:, 9].values\n",
    "X = dataframe.iloc[:, 2:7].values\n",
    "y = dataframe.iloc[:, 7].values\n",
    "print(y)"
   ]
  },
  {
   "cell_type": "code",
   "execution_count": 3,
   "id": "e1a07a55",
   "metadata": {},
   "outputs": [],
   "source": [
    "from sklearn.model_selection import train_test_split\n",
    "\n",
    "X_train, X_test, y_train, y_test = train_test_split(X, y, test_size=0.2, random_state=0)\n"
   ]
  },
  {
   "cell_type": "code",
   "execution_count": 4,
   "id": "cdd8542b",
   "metadata": {},
   "outputs": [
    {
     "name": "stdout",
     "output_type": "stream",
     "text": [
      "[[-0.73060999 -1.29215334 -0.23784344 -0.33259576  0.56462383]\n",
      " [-0.42121906  0.83523909  0.90425807 -0.93872825 -1.04373651]\n",
      " [ 1.15064293  0.5573673  -0.91113473  1.27010992 -0.94641137]\n",
      " ...\n",
      " [-0.32279013  0.63975504  1.1635999   0.64918482  2.31897187]\n",
      " [-0.16794462  0.3937828  -2.87614782  1.64373014  0.41863612]\n",
      " [ 1.54645927  0.4421459  -0.76650179 -1.048161    0.52594332]]\n"
     ]
    }
   ],
   "source": [
    "from sklearn.preprocessing import StandardScaler\n",
    "\n",
    "sc = StandardScaler()\n",
    "X_train = sc.fit_transform(X_train)\n",
    "X_test = sc.transform(X_test)\n",
    "\n",
    "print(X_test)"
   ]
  },
  {
   "cell_type": "code",
   "execution_count": 5,
   "id": "287612fb",
   "metadata": {},
   "outputs": [],
   "source": [
    "from sklearn import svm\n",
    "svm_reg = svm.SVR()\n",
    "\n",
    "regressor = svm_reg.fit(X_train, y_train)\n",
    "y_pred = regressor.predict(X_test)"
   ]
  },
  {
   "cell_type": "code",
   "execution_count": 6,
   "id": "d091f66c",
   "metadata": {},
   "outputs": [
    {
     "name": "stdout",
     "output_type": "stream",
     "text": [
      "Mean Absolute Error: 0.12071659822330422\n",
      "Mean Squared Error: 0.08464333268350382\n",
      "Root Mean Squared Error: 0.29093527232617195\n"
     ]
    }
   ],
   "source": [
    "from sklearn import metrics\n",
    "\n",
    "print('Mean Absolute Error:', metrics.mean_absolute_error(y_test, y_pred))\n",
    "print('Mean Squared Error:', metrics.mean_squared_error(y_test, y_pred))\n",
    "print('Root Mean Squared Error:', np.sqrt(metrics.mean_squared_error(y_test, y_pred)))"
   ]
  },
  {
   "cell_type": "code",
   "execution_count": null,
   "id": "04a19aef",
   "metadata": {},
   "outputs": [],
   "source": []
  }
 ],
 "metadata": {
  "kernelspec": {
   "display_name": "Python 3 (ipykernel)",
   "language": "python",
   "name": "python3"
  },
  "language_info": {
   "codemirror_mode": {
    "name": "ipython",
    "version": 3
   },
   "file_extension": ".py",
   "mimetype": "text/x-python",
   "name": "python",
   "nbconvert_exporter": "python",
   "pygments_lexer": "ipython3",
   "version": "3.8.13"
  }
 },
 "nbformat": 4,
 "nbformat_minor": 5
}
