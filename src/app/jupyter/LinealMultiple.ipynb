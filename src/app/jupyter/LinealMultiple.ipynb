{
 "cells": [
  {
   "cell_type": "code",
   "execution_count": 8,
   "id": "e43945b5",
   "metadata": {},
   "outputs": [
    {
     "name": "stderr",
     "output_type": "stream",
     "text": [
      "C:\\Users\\AE5\\AppData\\Local\\Temp\\ipykernel_5912\\3588273756.py:6: DtypeWarning: Columns (0,1) have mixed types. Specify dtype option on import or set low_memory=False.\n",
      "  dataframe = pd.read_csv('Datos.csv', sep=';',encoding ='latin-1')\n"
     ]
    },
    {
     "name": "stdout",
     "output_type": "stream",
     "text": [
      "            fecha          hora  temperatura  Humedad Relativa  \\\n",
      "0       01/01/2016  12:00:07 AM       30.017            71.095   \n",
      "1       01/01/2016  12:01:06 AM       29.989            71.328   \n",
      "2       01/01/2016  12:02:06 AM       29.983            71.232   \n",
      "3       01/01/2016  12:03:06 AM       29.921            71.333   \n",
      "4       01/01/2016  12:04:06 AM       29.860            71.740   \n",
      "...            ...          ...          ...               ...   \n",
      "999995         NaN          NaN          NaN               NaN   \n",
      "999996         NaN          NaN          NaN               NaN   \n",
      "999997         NaN          NaN          NaN               NaN   \n",
      "999998         NaN          NaN          NaN               NaN   \n",
      "999999         NaN          NaN          NaN               NaN   \n",
      "\n",
      "        PresionAtmosferica  RadiacionSolar  Velocidad  Potencia  \n",
      "0                  1015.61           0.074      1.703  -36.6627  \n",
      "1                  1015.61           0.165      0.859  -38.4633  \n",
      "2                  1015.61           0.292      2.633  -39.4124  \n",
      "3                  1015.61           0.467      2.016  -39.8277  \n",
      "4                  1015.61           0.480      1.789  -40.0013  \n",
      "...                    ...             ...        ...       ...  \n",
      "999995                 NaN             NaN        NaN       NaN  \n",
      "999996                 NaN             NaN        NaN       NaN  \n",
      "999997                 NaN             NaN        NaN       NaN  \n",
      "999998                 NaN             NaN        NaN       NaN  \n",
      "999999                 NaN             NaN        NaN       NaN  \n",
      "\n",
      "[1000000 rows x 8 columns]\n"
     ]
    }
   ],
   "source": [
    "import pandas as pd\n",
    "import numpy as np\n",
    "\n",
    "#dataframe = pd.read_csv('Prueba2.csv', sep=';',encoding ='latin-1')\n",
    "#print(dataframe)\n",
    "dataframe = pd.read_csv('Datos.csv', sep=';',encoding ='latin-1')\n",
    "print(dataframe)"
   ]
  },
  {
   "cell_type": "code",
   "execution_count": 9,
   "id": "d0357a32",
   "metadata": {},
   "outputs": [],
   "source": [
    "#X = dataframe.iloc[:, 2:9].values\n",
    "#y = dataframe.iloc[:, 9].values\n",
    "#print(y)\n",
    "dataframe.dropna(inplace=True)\n",
    "dataframe.isnull().sum().sum()\n",
    "X = dataframe.iloc[:, 2:7].values\n",
    "y = dataframe.iloc[:, 7].values"
   ]
  },
  {
   "cell_type": "code",
   "execution_count": 10,
   "id": "4202d550",
   "metadata": {},
   "outputs": [],
   "source": [
    "from sklearn.model_selection import train_test_split\n",
    "\n",
    "X_train, X_test, y_train, y_test = train_test_split(X, y, test_size=0.2, random_state=0)"
   ]
  },
  {
   "cell_type": "code",
   "execution_count": 11,
   "id": "3510a7d9",
   "metadata": {},
   "outputs": [
    {
     "name": "stdout",
     "output_type": "stream",
     "text": [
      "[[-0.73060999 -1.29215334 -0.23784344 -0.33259576  0.56462383]\n",
      " [-0.42121906  0.83523909  0.90425807 -0.93872825 -1.04373651]\n",
      " [ 1.15064293  0.5573673  -0.91113473  1.27010992 -0.94641137]\n",
      " ...\n",
      " [-0.32279013  0.63975504  1.1635999   0.64918482  2.31897187]\n",
      " [-0.16794462  0.3937828  -2.87614782  1.64373014  0.41863612]\n",
      " [ 1.54645927  0.4421459  -0.76650179 -1.048161    0.52594332]]\n"
     ]
    }
   ],
   "source": [
    "from sklearn.preprocessing import StandardScaler\n",
    "\n",
    "sc = StandardScaler()\n",
    "X_train = sc.fit_transform(X_train)\n",
    "X_test = sc.transform(X_test)\n",
    "\n",
    "print(X_test)"
   ]
  },
  {
   "cell_type": "code",
   "execution_count": 12,
   "id": "e895875f",
   "metadata": {},
   "outputs": [],
   "source": [
    "#from sklearn.decomposition import PCA\n",
    "#pca = PCA(n_components = )\n",
    "#X_train = pca.fit_transform(X_train)\n",
    "#X_test = pca.transform(X_test)\n",
    "#print(X_train)"
   ]
  },
  {
   "cell_type": "code",
   "execution_count": 13,
   "id": "8dbfca04",
   "metadata": {},
   "outputs": [
    {
     "name": "stdout",
     "output_type": "stream",
     "text": [
      "[[-0.73060999 -1.29215334 -0.23784344 -0.33259576  0.56462383]\n",
      " [-0.42121906  0.83523909  0.90425807 -0.93872825 -1.04373651]\n",
      " [ 1.15064293  0.5573673  -0.91113473  1.27010992 -0.94641137]\n",
      " ...\n",
      " [-0.32279013  0.63975504  1.1635999   0.64918482  2.31897187]\n",
      " [-0.16794462  0.3937828  -2.87614782  1.64373014  0.41863612]\n",
      " [ 1.54645927  0.4421459  -0.76650179 -1.048161    0.52594332]]\n"
     ]
    }
   ],
   "source": [
    "from sklearn import linear_model\n",
    "from sklearn.metrics import mean_squared_error, r2_score\n",
    "\n",
    "model = linear_model.LinearRegression()\n",
    "model.fit(X_train, y_train)\n",
    "#LinearRegression(copy_x=true, fit_intercept=True, n_jobs=None, normalize=False)\n",
    "y_pred = model.predict(X_test)\n",
    "print(X_test)"
   ]
  },
  {
   "cell_type": "code",
   "execution_count": 14,
   "id": "5aa40ee1",
   "metadata": {},
   "outputs": [
    {
     "name": "stdout",
     "output_type": "stream",
     "text": [
      "Coefficients: [-0.02257745  0.00820935 -0.40815932  0.00150435 -0.01702593]\n",
      "Intercept: -38.41971724841961\n",
      "Mean squared error (MSE): 0.20\n",
      "Coefficient of determination (R^2): 0.45\n"
     ]
    }
   ],
   "source": [
    "print('Coefficients:', model.coef_)\n",
    "print('Intercept:', model.intercept_)\n",
    "print('Mean squared error (MSE): %.2f'\n",
    "      % mean_squared_error(y_test, y_pred))\n",
    "print('Coefficient of determination (R^2): %.2f'\n",
    "      % r2_score(y_test, y_pred))"
   ]
  },
  {
   "cell_type": "code",
   "execution_count": null,
   "id": "522f30f6",
   "metadata": {},
   "outputs": [],
   "source": []
  }
 ],
 "metadata": {
  "kernelspec": {
   "display_name": "Python 3 (ipykernel)",
   "language": "python",
   "name": "python3"
  },
  "language_info": {
   "codemirror_mode": {
    "name": "ipython",
    "version": 3
   },
   "file_extension": ".py",
   "mimetype": "text/x-python",
   "name": "python",
   "nbconvert_exporter": "python",
   "pygments_lexer": "ipython3",
   "version": "3.8.13"
  }
 },
 "nbformat": 4,
 "nbformat_minor": 5
}
